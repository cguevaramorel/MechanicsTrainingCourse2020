{
 "cells": [
  {
   "cell_type": "markdown",
   "metadata": {},
   "source": [
    "![Logo TUBAF](https://tu-freiberg.de/sites/default/files/media/freiberger-alumni-netzwerk-6127/wbm_orig_rgb_0.jpg)\n",
    "\n",
    "Comments to:\n",
    "\n",
    "*Prof. Dr. Thomas Nagel  \n",
    "Chair of Soil Mechanics and Foundation Engineering  \n",
    "Geotechnical Institute  \n",
    "Technische Universität Bergakademie Freiberg.*\n",
    "\n",
    "https://tu-freiberg.de/en/soilmechanics"
   ]
  },
  {
   "cell_type": "markdown",
   "metadata": {},
   "source": [
    "# Günther-Salzer model -- damage free component\n",
    "\n",
    "Following:\n",
    "\n",
    "Günther, R.-M., Salzer, K., Popp, T., & Lüdeling, C. (2015). Steady-State Creep of Rock Salt: Improved Approaches for Lab Determination and Modelling. Rock Mechanics and Rock Engineering, 48(6), 2603–2613. https://doi.org/10.1007/s00603-015-0839-2\n",
    "\n",
    "Günther, R., & Salzer, K. (2012). Advanced strain-hardening approach. In Mechanical Behaviour of Salt VII (Issue December 2016). CRC Press. https://doi.org/10.1201/b12041-4\n",
    "\n",
    "\\begin{align}\n",
    "    \\dot{\\epsilon}_\\text{cr} &= \\dot{\\epsilon}_\\text{cr}^\\text{V} + \\dot{\\epsilon}_\\text{cr}^\\text{E}\n",
    "    \\\\\n",
    "    \\dot{\\epsilon}_\\text{cr} &= A_\\text{p} \\frac{ (\\bar{\\sigma}/\\sigma_\\text{ref})^{n_\\text{p}}}{\\left( \\epsilon^\\text{V}_0 + \\epsilon_\\text{cr}^\\text{V} \\right)^{\\mu_\\text{p}}} \\quad \\text{with} \\quad \\bar{\\sigma} = \\sqrt{\\frac{3}{2}} \\left\\lVert \\mathbf{s} \\right\\rVert\n",
    "    \\\\\n",
    "    \\dot{\\epsilon}_\\text{cr}^\\text{E} &= \\sum \\limits_{i=1}^2 A_{\\text{s},i} \\exp \\left( - \\frac{Q_i}{RT} \\right) \\left( \\frac{\\bar{\\sigma}}{\\sigma_\\text{ref}} \\right)^{n_i}\n",
    "\\end{align}\n",
    "\n",
    "3D:\n",
    "\n",
    "$$\n",
    "    \\dot{\\boldsymbol\\epsilon}_\\text{cr} = \\sqrt{\\frac{3}{2}} \\dot{\\epsilon}_\\text{cr} \\frac{\\mathbf{s}}{\\left\\lVert \\mathbf{s} \\right\\rVert}\n",
    "$$"
   ]
  },
  {
   "cell_type": "code",
   "execution_count": 1,
   "metadata": {},
   "outputs": [],
   "source": [
    "#HIDDEN\n",
    "import mtest\n",
    "import numpy as np\n",
    "import matplotlib.pyplot as plt\n",
    "import os\n",
    "import plot_settings\n",
    "mtest.setVerboseMode(mtest.VerboseLevel.VERBOSE_QUIET)"
   ]
  },
  {
   "cell_type": "code",
   "execution_count": 2,
   "metadata": {},
   "outputs": [],
   "source": [
    "#HIDDEN\n",
    "build_release = 'mfront --obuild --interface=generic GuentherSalzerDilatancy_semi_expl.mfront'\n",
    "#os.system(build_release)"
   ]
  },
  {
   "cell_type": "markdown",
   "metadata": {},
   "source": [
    "## Dilatancy tests"
   ]
  },
  {
   "cell_type": "code",
   "execution_count": 3,
   "metadata": {},
   "outputs": [],
   "source": [
    "E = 25e4 #MPa\n",
    "nu = 0.27\n",
    "#\n",
    "Ap = 6.5e-24 #1/d\n",
    "npe = 11.88\n",
    "s0 = 1.0 #MPa\n",
    "mup = 2.95\n",
    "epsv0 = 0.001 # very sensitive parameter!\n",
    "#\n",
    "As1 = 0.0\n",
    "Q1 = 40e3\n",
    "ns1 = 4.0\n",
    "As2 = 0.0\n",
    "Q2 = 65e3\n",
    "ns2 = 1.0"
   ]
  },
  {
   "cell_type": "code",
   "execution_count": 4,
   "metadata": {},
   "outputs": [],
   "source": [
    "#HIDDEN\n",
    "def run_creep_Asse_dil(T = 299, eps_max = -0.3, eps_dot=-1e-5, s3 = -20.):\n",
    "    tmax = eps_max / eps_dot\n",
    "    t_discrete = np.linspace(0,tmax,1000)\n",
    "    print(tmax, s3/E/2.2)\n",
    "    m    = mtest.MTest()\n",
    "    m.setMaximumNumberOfSubSteps(100)\n",
    "    m.setBehaviour('generic', './src/libBehaviour.so', 'GuentherSalzerDilatancy_semi_expl')\n",
    "    m.setImposedStress('SXX', s3)\n",
    "    m.setImposedStress('SYY', s3)\n",
    "    m.setImposedStrain('EZZ', {0: s3/E/2.2, tmax: eps_max})\n",
    "    m.setImposedStress('SXZ', 0.0)\n",
    "    m.setImposedStress('SYZ', 0.0)\n",
    "    m.setImposedStress('SXY', 0.0)\n",
    "    m.setMaterialProperty('YoungModulus', E)\n",
    "    m.setMaterialProperty('PoissonRatio', nu)\n",
    "    m.setMaterialProperty('PrimaryPowerLawFactor', Ap)\n",
    "    m.setMaterialProperty('PrimaryPowerLawExponent', npe)\n",
    "    m.setMaterialProperty('SecondaryPowerLawFactor1', As1)\n",
    "    m.setMaterialProperty('SecondaryPowerLawExponent1', ns1)\n",
    "    m.setMaterialProperty('SecondaryActivationEnergy1', Q1)\n",
    "    m.setMaterialProperty('SecondaryPowerLawFactor2', As2)\n",
    "    m.setMaterialProperty('SecondaryPowerLawExponent2', ns2)\n",
    "    m.setMaterialProperty('SecondaryActivationEnergy2', Q2)\n",
    "    m.setMaterialProperty('HardeningExponent', mup)\n",
    "    m.setMaterialProperty('InitialHardening', epsv0)\n",
    "    m.setMaterialProperty('ReferenceStress', s0)\n",
    "    m.setExternalStateVariable(\"Temperature\", T)\n",
    "    s = mtest.MTestCurrentState()\n",
    "    wk = mtest.MTestWorkSpace()\n",
    "    m.completeInitialisation()\n",
    "    m.initializeCurrentState(s)\n",
    "    m.initializeWorkSpace(wk)\n",
    "    sax = np.array([0.])\n",
    "    eax = np.array([0.])\n",
    "    Udil = np.array([0.])\n",
    "    evol = np.array([0.])\n",
    "    for i in range(len(t_discrete)-1):\n",
    "        m.execute(s, wk, t_discrete[i], t_discrete[i + 1])\n",
    "        Udil = np.append(Udil,s.getInternalStateVariableValue('HardeningStrain'))\n",
    "        evol = np.append(evol,s.getInternalStateVariableValue('DilatancyStrain'))\n",
    "        sax = np.append(sax,s.s1[2])\n",
    "        eax = np.append(eax,s.e1[2])\n",
    "    return t_discrete, sax, eax, Udil, evol"
   ]
  },
  {
   "cell_type": "code",
   "execution_count": 5,
   "metadata": {},
   "outputs": [
    {
     "name": "stdout",
     "output_type": "stream",
     "text": [
      "30.0 -5.4545454545454545e-06\n"
     ]
    },
    {
     "ename": "RuntimeError",
     "evalue": "GenericSolver::execute: maximum number of sub stepping reached",
     "output_type": "error",
     "traceback": [
      "\u001b[0;31m---------------------------------------------------------------------------\u001b[0m",
      "\u001b[0;31mRuntimeError\u001b[0m                              Traceback (most recent call last)",
      "\u001b[0;32m/tmp/ipykernel_315586/487400312.py\u001b[0m in \u001b[0;36m<module>\u001b[0;34m\u001b[0m\n\u001b[1;32m      2\u001b[0m \u001b[0mfig\u001b[0m\u001b[0;34m,\u001b[0m\u001b[0max\u001b[0m \u001b[0;34m=\u001b[0m \u001b[0mplt\u001b[0m\u001b[0;34m.\u001b[0m\u001b[0msubplots\u001b[0m\u001b[0;34m(\u001b[0m\u001b[0mfigsize\u001b[0m\u001b[0;34m=\u001b[0m\u001b[0;34m(\u001b[0m\u001b[0;36m20\u001b[0m\u001b[0;34m,\u001b[0m\u001b[0;36m8\u001b[0m\u001b[0;34m)\u001b[0m\u001b[0;34m,\u001b[0m\u001b[0mncols\u001b[0m\u001b[0;34m=\u001b[0m\u001b[0;36m3\u001b[0m\u001b[0;34m)\u001b[0m\u001b[0;34m\u001b[0m\u001b[0;34m\u001b[0m\u001b[0m\n\u001b[1;32m      3\u001b[0m \u001b[0;32mfor\u001b[0m \u001b[0msig3\u001b[0m \u001b[0;32min\u001b[0m \u001b[0;34m[\u001b[0m\u001b[0;36m3\u001b[0m\u001b[0;34m,\u001b[0m\u001b[0;36m5\u001b[0m\u001b[0;34m,\u001b[0m\u001b[0;36m10\u001b[0m\u001b[0;34m]\u001b[0m\u001b[0;34m:\u001b[0m\u001b[0;34m\u001b[0m\u001b[0;34m\u001b[0m\u001b[0m\n\u001b[0;32m----> 4\u001b[0;31m     \u001b[0mt\u001b[0m\u001b[0;34m,\u001b[0m \u001b[0ms\u001b[0m\u001b[0;34m,\u001b[0m \u001b[0me\u001b[0m\u001b[0;34m,\u001b[0m \u001b[0mu\u001b[0m\u001b[0;34m,\u001b[0m \u001b[0mdil\u001b[0m \u001b[0;34m=\u001b[0m \u001b[0mrun_creep_Asse_dil\u001b[0m\u001b[0;34m(\u001b[0m\u001b[0ms3\u001b[0m \u001b[0;34m=\u001b[0m \u001b[0;34m-\u001b[0m\u001b[0msig3\u001b[0m\u001b[0;34m,\u001b[0m \u001b[0meps_dot\u001b[0m \u001b[0;34m=\u001b[0m \u001b[0;34m-\u001b[0m\u001b[0;36m1e-2\u001b[0m\u001b[0;34m)\u001b[0m\u001b[0;34m\u001b[0m\u001b[0;34m\u001b[0m\u001b[0m\n\u001b[0m\u001b[1;32m      5\u001b[0m     \u001b[0max\u001b[0m\u001b[0;34m[\u001b[0m\u001b[0;36m0\u001b[0m\u001b[0;34m]\u001b[0m\u001b[0;34m.\u001b[0m\u001b[0mplot\u001b[0m\u001b[0;34m(\u001b[0m\u001b[0;34m-\u001b[0m\u001b[0me\u001b[0m\u001b[0;34m[\u001b[0m\u001b[0;36m10\u001b[0m\u001b[0;34m:\u001b[0m\u001b[0;34m]\u001b[0m\u001b[0;34m*\u001b[0m\u001b[0;36m100\u001b[0m\u001b[0;34m,\u001b[0m\u001b[0;34m-\u001b[0m\u001b[0ms\u001b[0m\u001b[0;34m[\u001b[0m\u001b[0;36m10\u001b[0m\u001b[0;34m:\u001b[0m\u001b[0;34m]\u001b[0m\u001b[0;34m-\u001b[0m\u001b[0msig3\u001b[0m\u001b[0;34m,\u001b[0m \u001b[0mlabel\u001b[0m\u001b[0;34m=\u001b[0m \u001b[0;34m'$\\\\sigma_3 = %i$ MPa'\u001b[0m \u001b[0;34m%\u001b[0m\u001b[0msig3\u001b[0m\u001b[0;34m)\u001b[0m\u001b[0;34m\u001b[0m\u001b[0;34m\u001b[0m\u001b[0m\n\u001b[1;32m      6\u001b[0m     \u001b[0max\u001b[0m\u001b[0;34m[\u001b[0m\u001b[0;36m1\u001b[0m\u001b[0;34m]\u001b[0m\u001b[0;34m.\u001b[0m\u001b[0mplot\u001b[0m\u001b[0;34m(\u001b[0m\u001b[0mt\u001b[0m\u001b[0;34m[\u001b[0m\u001b[0;36m1\u001b[0m\u001b[0;34m:\u001b[0m\u001b[0;34m]\u001b[0m\u001b[0;34m,\u001b[0m\u001b[0mu\u001b[0m\u001b[0;34m[\u001b[0m\u001b[0;36m1\u001b[0m\u001b[0;34m:\u001b[0m\u001b[0;34m]\u001b[0m\u001b[0;34m*\u001b[0m\u001b[0;36m100\u001b[0m\u001b[0;34m,\u001b[0m \u001b[0mlabel\u001b[0m\u001b[0;34m=\u001b[0m \u001b[0;34m'$\\\\sigma_3 = %i$ MPa'\u001b[0m \u001b[0;34m%\u001b[0m\u001b[0msig3\u001b[0m\u001b[0;34m)\u001b[0m\u001b[0;34m\u001b[0m\u001b[0;34m\u001b[0m\u001b[0m\n",
      "\u001b[0;32m/tmp/ipykernel_315586/2243039165.py\u001b[0m in \u001b[0;36mrun_creep_Asse_dil\u001b[0;34m(T, eps_max, eps_dot, s3)\u001b[0m\n\u001b[1;32m     37\u001b[0m     \u001b[0mevol\u001b[0m \u001b[0;34m=\u001b[0m \u001b[0mnp\u001b[0m\u001b[0;34m.\u001b[0m\u001b[0marray\u001b[0m\u001b[0;34m(\u001b[0m\u001b[0;34m[\u001b[0m\u001b[0;36m0.\u001b[0m\u001b[0;34m]\u001b[0m\u001b[0;34m)\u001b[0m\u001b[0;34m\u001b[0m\u001b[0;34m\u001b[0m\u001b[0m\n\u001b[1;32m     38\u001b[0m     \u001b[0;32mfor\u001b[0m \u001b[0mi\u001b[0m \u001b[0;32min\u001b[0m \u001b[0mrange\u001b[0m\u001b[0;34m(\u001b[0m\u001b[0mlen\u001b[0m\u001b[0;34m(\u001b[0m\u001b[0mt_discrete\u001b[0m\u001b[0;34m)\u001b[0m\u001b[0;34m-\u001b[0m\u001b[0;36m1\u001b[0m\u001b[0;34m)\u001b[0m\u001b[0;34m:\u001b[0m\u001b[0;34m\u001b[0m\u001b[0;34m\u001b[0m\u001b[0m\n\u001b[0;32m---> 39\u001b[0;31m         \u001b[0mm\u001b[0m\u001b[0;34m.\u001b[0m\u001b[0mexecute\u001b[0m\u001b[0;34m(\u001b[0m\u001b[0ms\u001b[0m\u001b[0;34m,\u001b[0m \u001b[0mwk\u001b[0m\u001b[0;34m,\u001b[0m \u001b[0mt_discrete\u001b[0m\u001b[0;34m[\u001b[0m\u001b[0mi\u001b[0m\u001b[0;34m]\u001b[0m\u001b[0;34m,\u001b[0m \u001b[0mt_discrete\u001b[0m\u001b[0;34m[\u001b[0m\u001b[0mi\u001b[0m \u001b[0;34m+\u001b[0m \u001b[0;36m1\u001b[0m\u001b[0;34m]\u001b[0m\u001b[0;34m)\u001b[0m\u001b[0;34m\u001b[0m\u001b[0;34m\u001b[0m\u001b[0m\n\u001b[0m\u001b[1;32m     40\u001b[0m         \u001b[0mUdil\u001b[0m \u001b[0;34m=\u001b[0m \u001b[0mnp\u001b[0m\u001b[0;34m.\u001b[0m\u001b[0mappend\u001b[0m\u001b[0;34m(\u001b[0m\u001b[0mUdil\u001b[0m\u001b[0;34m,\u001b[0m\u001b[0ms\u001b[0m\u001b[0;34m.\u001b[0m\u001b[0mgetInternalStateVariableValue\u001b[0m\u001b[0;34m(\u001b[0m\u001b[0;34m'HardeningStrain'\u001b[0m\u001b[0;34m)\u001b[0m\u001b[0;34m)\u001b[0m\u001b[0;34m\u001b[0m\u001b[0;34m\u001b[0m\u001b[0m\n\u001b[1;32m     41\u001b[0m         \u001b[0mevol\u001b[0m \u001b[0;34m=\u001b[0m \u001b[0mnp\u001b[0m\u001b[0;34m.\u001b[0m\u001b[0mappend\u001b[0m\u001b[0;34m(\u001b[0m\u001b[0mevol\u001b[0m\u001b[0;34m,\u001b[0m\u001b[0ms\u001b[0m\u001b[0;34m.\u001b[0m\u001b[0mgetInternalStateVariableValue\u001b[0m\u001b[0;34m(\u001b[0m\u001b[0;34m'DilatancyStrain'\u001b[0m\u001b[0;34m)\u001b[0m\u001b[0;34m)\u001b[0m\u001b[0;34m\u001b[0m\u001b[0;34m\u001b[0m\u001b[0m\n",
      "\u001b[0;31mRuntimeError\u001b[0m: GenericSolver::execute: maximum number of sub stepping reached"
     ]
    },
    {
     "data": {
      "image/png": "[encoded data removed]",
      "text/plain": [
       "<Figure size 1440x576 with 3 Axes>"
      ]
     },
     "metadata": {
      "needs_background": "light"
     },
     "output_type": "display_data"
    }
   ],
   "source": [
    "#HIDDEN\n",
    "fig,ax = plt.subplots(figsize=(20,8),ncols=3)\n",
    "for sig3 in [3,5,10]:\n",
    "    t, s, e, u, dil = run_creep_Asse_dil(s3 = -sig3, eps_dot = -1e-2)\n",
    "    ax[0].plot(-e[10:]*100,-s[10:]-sig3, label= '$\\\\sigma_3 = %i$ MPa' %sig3)\n",
    "    ax[1].plot(t[1:],u[1:]*100, label= '$\\\\sigma_3 = %i$ MPa' %sig3)\n",
    "    ax[2].plot(t[1:],dil[1:]*100, label= '$\\\\sigma_3 = %i$ MPa' %sig3)\n",
    "\n",
    "ax[0].set_xlabel('$\\\\epsilon_{zz}$ / %')\n",
    "ax[0].set_ylabel('$\\\\sigma_{zz} - \\sigma_3$ / MPa')\n",
    "ax[0].grid('both')\n",
    "ax[0].legend()\n",
    "\n",
    "\n",
    "ax[1].set_xlabel('$t$ / d')\n",
    "ax[1].set_ylabel('$\\\\epsilon_\\\\mathrm{cr}^\\\\mathrm{v}$ / %')\n",
    "ax[1].grid('both')\n",
    "ax[1].legend()\n",
    "\n",
    "ax[2].set_xlabel('$t$ / d')\n",
    "ax[2].set_ylabel('$\\\\epsilon_\\\\mathrm{vol}$ / %')\n",
    "ax[2].grid('both')\n",
    "ax[2].legend()\n",
    "\n",
    "fig.tight_layout();"
   ]
  },
  {
   "cell_type": "code",
   "execution_count": null,
   "metadata": {},
   "outputs": [],
   "source": [
    "## HIDDEN\n",
    "fig,ax = plt.subplots(figsize=(20,8),ncols=3)\n",
    "for sig3 in [5,10,20]:\n",
    "    t, s, e, u, dil = run_creep_Asse_dil(s3 = -sig3, eps_dot = -1e-1)\n",
    "    ax[0].plot(-e[10:]*100,-s[10:]-sig3, label= '$\\\\sigma_3 = %i$ MPa' %sig3)\n",
    "    ax[1].plot(t[1:],u[1:]*100, label= '$\\\\sigma_3 = %i$ MPa' %sig3)\n",
    "    ax[2].plot(t[1:],dil[1:]*100, label= '$\\\\sigma_3 = %i$ MPa' %sig3)\n",
    "\n",
    "ax[0].set_xlabel('$\\\\epsilon_{zz}$ / %')\n",
    "ax[0].set_ylabel('$\\\\sigma_{zz} - \\sigma_3$ / MPa')\n",
    "ax[0].grid('both')\n",
    "ax[0].legend()\n",
    "\n",
    "\n",
    "ax[1].set_xlabel('$t$ / d')\n",
    "ax[1].set_ylabel('$\\\\epsilon_\\\\mathrm{cr}^\\\\mathrm{v}$ / %')\n",
    "ax[1].grid('both')\n",
    "ax[1].legend()\n",
    "\n",
    "ax[2].set_xlabel('$t$ / d')\n",
    "ax[2].set_ylabel('$\\\\epsilon_\\\\mathrm{vol}$ / %')\n",
    "ax[2].grid('both')\n",
    "ax[2].legend()\n",
    "\n",
    "fig.tight_layout();"
   ]
  },
  {
   "cell_type": "code",
   "execution_count": null,
   "metadata": {},
   "outputs": [],
   "source": []
  },
  {
   "cell_type": "code",
   "execution_count": null,
   "metadata": {},
   "outputs": [],
   "source": []
  }
 ],
 "metadata": {
  "kernelspec": {
   "display_name": "Python 3 (ipykernel)",
   "language": "python",
   "name": "python3"
  },
  "language_info": {
   "codemirror_mode": {
    "name": "ipython",
    "version": 3
   },
   "file_extension": ".py",
   "mimetype": "text/x-python",
   "name": "python",
   "nbconvert_exporter": "python",
   "pygments_lexer": "ipython3",
   "version": "3.9.5"
  }
 },
 "nbformat": 4,
 "nbformat_minor": 4
}
