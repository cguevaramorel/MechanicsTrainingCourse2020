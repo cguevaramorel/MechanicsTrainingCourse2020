{
 "cells": [
  {
   "cell_type": "markdown",
   "metadata": {},
   "source": [
    "# Simple shear test of Lubby2 Model"
   ]
  },
  {
   "cell_type": "code",
   "execution_count": 1,
   "metadata": {},
   "outputs": [],
   "source": [
    "import mtest\n",
    "import numpy as np\n",
    "import matplotlib.pyplot as plt\n",
    "import os\n",
    "plt.rcParams.update({'font.size': 16})\n",
    "#mtest.setVerboseMode(mtest.VerboseLevel.VERBOSE_QUIET)"
   ]
  },
  {
   "cell_type": "code",
   "execution_count": 2,
   "metadata": {},
   "outputs": [],
   "source": [
    "A1 = 0.18\n",
    "Q1 = 54e3\n",
    "E = 25e3\n",
    "m1 = 5\n",
    "nu = 0.27\n",
    "\n",
    "A2 = 0.\n",
    "Q2 = 54e3\n",
    "sref = 1.\n",
    "Dgrain = 5e-3"
   ]
  },
  {
   "cell_type": "code",
   "execution_count": 3,
   "metadata": {},
   "outputs": [
    {
     "name": "stdout",
     "output_type": "stream",
     "text": [
      "Treating target : all\n",
      "The following library has been built :\n",
      "- libBehaviour.so :  MohrCoulombAbboSloan_AxisymmetricalGeneralisedPlaneStrain MohrCoulombAbboSloan_AxisymmetricalGeneralisedPlaneStress MohrCoulombAbboSloan_Axisymmetrical MohrCoulombAbboSloan_PlaneStress MohrCoulombAbboSloan_PlaneStrain MohrCoulombAbboSloan_GeneralisedPlaneStrain MohrCoulombAbboSloan_Tridimensional ModCamClay_semiExplParaInit_AxisymmetricalGeneralisedPlaneStrain ModCamClay_semiExplParaInit_AxisymmetricalGeneralisedPlaneStress ModCamClay_semiExplParaInit_Axisymmetrical ModCamClay_semiExplParaInit_PlaneStress ModCamClay_semiExplParaInit_PlaneStrain ModCamClay_semiExplParaInit_GeneralisedPlaneStrain ModCamClay_semiExplParaInit_Tridimensional PowerLawLinearCreep_AxisymmetricalGeneralisedPlaneStrain PowerLawLinearCreep_AxisymmetricalGeneralisedPlaneStress PowerLawLinearCreep_Axisymmetrical PowerLawLinearCreep_PlaneStress PowerLawLinearCreep_PlaneStrain PowerLawLinearCreep_GeneralisedPlaneStrain PowerLawLinearCreep_Tridimensional\n"
     ]
    },
    {
     "data": {
      "text/plain": [
       "0"
      ]
     },
     "execution_count": 3,
     "metadata": {},
     "output_type": "execute_result"
    }
   ],
   "source": [
    "build_release = 'mfront --obuild --interface=generic PowerLawLinearCreep.mfront'\n",
    "os.system(build_release)"
   ]
  },
  {
   "cell_type": "code",
   "execution_count": 4,
   "metadata": {},
   "outputs": [],
   "source": [
    "def run_temp_sim_BGRa(t_discrete, T0=293.15):\n",
    "    m    = mtest.MTest()\n",
    "    m.setMaximumNumberOfSubSteps(1)\n",
    "    m.setBehaviour('generic', './src/libBehaviour.so', 'PowerLawLinearCreep')\n",
    "    m.setImposedStress('SXX', 0.0)\n",
    "    m.setImposedStress('SYY', 0.0)\n",
    "    m.setImposedStrain('EZZ', -0.01)\n",
    "    m.setImposedStress('SXZ', 0.0)\n",
    "    m.setImposedStress('SYZ', 0.0)\n",
    "    m.setImposedStress('SXY', 0.0)\n",
    "    m.setMaterialProperty('YoungModulus', E)\n",
    "    m.setMaterialProperty('PoissonRatio', nu)\n",
    "    m.setMaterialProperty('PowerLawFactor', A1)\n",
    "    m.setMaterialProperty('PowerLawEnergy', Q1)\n",
    "    m.setMaterialProperty('PowerLawExponent', m1)\n",
    "    m.setMaterialProperty('LinearLawFactor', A2)\n",
    "    m.setMaterialProperty('LinearLawEnergy', Q2)\n",
    "    m.setMaterialProperty('ReferenceStress', sref)\n",
    "    m.setMaterialProperty('SaltGrainSize', Dgrain)\n",
    "    m.setExternalStateVariable(\"Temperature\", T0)\n",
    "    s = mtest.MTestCurrentState()\n",
    "    wk = mtest.MTestWorkSpace()\n",
    "    m.completeInitialisation()\n",
    "    m.initializeCurrentState(s)\n",
    "    m.initializeWorkSpace(wk)\n",
    "    numerical = np.array([0.])\n",
    "    for i in range(len(t_discrete)-1):\n",
    "        m.execute(s, wk, t_discrete[i], t_discrete[i + 1])\n",
    "        numerical = np.append(numerical,s.s1[2]) #Kelvin mapping backwards!\n",
    "    return numerical"
   ]
  },
  {
   "cell_type": "code",
   "execution_count": 5,
   "metadata": {},
   "outputs": [],
   "source": [
    "times = np.linspace(0,100,100)"
   ]
  },
  {
   "cell_type": "code",
   "execution_count": null,
   "metadata": {},
   "outputs": [],
   "source": [
    "temps = [20,50,100,150]\n",
    "fig,ax = plt.subplots(figsize=(12,8))\n",
    "for Temp in temps:\n",
    "    ax.plot(times[1:],run_temp_sim_BGRa(times,273.15+Temp)[1:],label='$T$ = %i °C' %Temp)\n",
    "ax.set_xlabel('$t$ / d')\n",
    "ax.set_ylabel('$\\\\sigma_{zz}$ / MPa')\n",
    "fig.tight_layout();\n",
    "ax.legend();"
   ]
  },
  {
   "cell_type": "code",
   "execution_count": null,
   "metadata": {},
   "outputs": [],
   "source": [
    "def run_grain_sim_PLL(t_discrete, D=5e-3):\n",
    "    Dgrain = D\n",
    "    m    = mtest.MTest()\n",
    "    m.setMaximumNumberOfSubSteps(1)\n",
    "    m.setBehaviour('generic', './src/libBehaviour.so', 'PowerLawLinearCreep')\n",
    "    m.setImposedStress('SXX', 0.0)\n",
    "    m.setImposedStress('SYY', 0.0)\n",
    "    m.setImposedStrain('EZZ', -0.01)\n",
    "    m.setImposedStress('SXZ', 0.0)\n",
    "    m.setImposedStress('SYZ', 0.0)\n",
    "    m.setImposedStress('SXY', 0.0)\n",
    "    m.setMaterialProperty('YoungModulus', E)\n",
    "    m.setMaterialProperty('PoissonRatio', nu)\n",
    "    m.setMaterialProperty('PowerLawFactor', A1*0)\n",
    "    m.setMaterialProperty('PowerLawEnergy', Q1)\n",
    "    m.setMaterialProperty('PowerLawExponent', m1)\n",
    "    m.setMaterialProperty('LinearLawFactor', A1)\n",
    "    m.setMaterialProperty('LinearLawEnergy', Q1)\n",
    "    m.setMaterialProperty('ReferenceStress', sref)\n",
    "    m.setMaterialProperty('SaltGrainSize', Dgrain)\n",
    "    m.setExternalStateVariable(\"Temperature\", 393.15)\n",
    "    s = mtest.MTestCurrentState()\n",
    "    wk = mtest.MTestWorkSpace()\n",
    "    m.completeInitialisation()\n",
    "    m.initializeCurrentState(s)\n",
    "    m.initializeWorkSpace(wk)\n",
    "    numerical = np.array([0.])\n",
    "    for i in range(len(t_discrete)-1):\n",
    "        m.execute(s, wk, t_discrete[i], t_discrete[i + 1])\n",
    "        numerical = np.append(numerical,s.s1[2]) #Kelvin mapping backwards!\n",
    "    return numerical"
   ]
  },
  {
   "cell_type": "code",
   "execution_count": null,
   "metadata": {},
   "outputs": [],
   "source": [
    "Ds = [5e-3,5e-2,5e-1]\n",
    "fig,ax = plt.subplots(figsize=(12,8))\n",
    "for d in Ds:\n",
    "    ax.plot(times[1:],run_grain_sim_PLL(times,d)[1:],label='$D$ = %.3f mm' %(d*1e3))\n",
    "ax.set_xlabel('$t$ / d')\n",
    "ax.set_ylabel('$\\\\sigma_{zz}$ / MPa')\n",
    "fig.tight_layout();\n",
    "ax.legend();"
   ]
  },
  {
   "cell_type": "code",
   "execution_count": null,
   "metadata": {},
   "outputs": [],
   "source": []
  }
 ],
 "metadata": {
  "kernelspec": {
   "display_name": "Python 3 (ipykernel)",
   "language": "python",
   "name": "python3"
  },
  "language_info": {
   "codemirror_mode": {
    "name": "ipython",
    "version": 3
   },
   "file_extension": ".py",
   "mimetype": "text/x-python",
   "name": "python",
   "nbconvert_exporter": "python",
   "pygments_lexer": "ipython3",
   "version": "3.8.10"
  }
 },
 "nbformat": 4,
 "nbformat_minor": 4
}
