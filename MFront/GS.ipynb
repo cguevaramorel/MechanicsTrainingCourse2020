{
 "cells": [
  {
   "cell_type": "markdown",
   "metadata": {},
   "source": [
    "![Logo TUBAF](https://tu-freiberg.de/sites/default/files/media/freiberger-alumni-netzwerk-6127/wbm_orig_rgb_0.jpg)\n",
    "\n",
    "Comments to:\n",
    "\n",
    "*Prof. Dr. Thomas Nagel  \n",
    "Chair of Soil Mechanics and Foundation Engineering  \n",
    "Geotechnical Institute  \n",
    "Technische Universität Bergakademie Freiberg.*\n",
    "\n",
    "https://tu-freiberg.de/en/soilmechanics"
   ]
  },
  {
   "cell_type": "markdown",
   "metadata": {},
   "source": [
    "# Günther-Salzer model\n",
    "\n",
    "\\begin{align}\n",
    "    \\dot{\\epsilon}_\\text{cr} &= \\dot{\\epsilon}_\\text{cr}^\\text{V} + \\dot{\\epsilon}_\\text{cr}^\\text{E}\n",
    "    \\\\\n",
    "    \\dot{\\epsilon}_\\text{cr} &= A_\\text{p} \\frac{ (\\bar{\\sigma}/\\sigma_\\text{ref})^{n_\\text{p}}}{\\left( \\epsilon^\\text{V}_0 + \\epsilon_\\text{cr}^\\text{V} \\right)^{\\mu_\\text{p}}} \\quad \\text{with} \\quad \\bar{\\sigma} = \\sqrt{\\frac{3}{2}} \\left\\lVert \\mathbf{s} \\right\\rVert\n",
    "    \\\\\n",
    "    \\dot{\\epsilon}_\\text{cr}^\\text{E} &= \\sum \\limits_{i=1}^2 A_{\\text{s},i} \\exp \\left( - \\frac{Q_i}{RT} \\right) \\left( \\frac{\\bar{\\sigma}}{\\sigma_\\text{ref}} \\right)^{n_i}\n",
    "\\end{align}\n",
    "\n",
    "3D:\n",
    "\n",
    "$$\n",
    "    \\dot{\\boldsymbol\\epsilon}_\\text{cr} = \\sqrt{\\frac{3}{2}} \\dot{\\epsilon}_\\text{cr} \\frac{\\mathbf{s}}{\\left\\lVert \\mathbf{s} \\right\\rVert}\n",
    "$$"
   ]
  },
  {
   "cell_type": "code",
   "execution_count": 1,
   "metadata": {},
   "outputs": [],
   "source": [
    "#HIDDEN\n",
    "import mtest\n",
    "import numpy as np\n",
    "import matplotlib.pyplot as plt\n",
    "import os\n",
    "import plot_settings\n",
    "mtest.setVerboseMode(mtest.VerboseLevel.VERBOSE_QUIET)"
   ]
  },
  {
   "cell_type": "code",
   "execution_count": 2,
   "metadata": {},
   "outputs": [],
   "source": [
    "E = 25e4 #MPa\n",
    "nu = 0.27\n",
    "#\n",
    "Ap = 6.5e-24 #1/d\n",
    "npe = 11.88\n",
    "s0 = 1.0 #MPa\n",
    "mup = 2.95\n",
    "epsv0 = 0.01 # very sensitive parameter!\n",
    "#\n",
    "As1 = 0.05\n",
    "Q1 = 40e3\n",
    "ns1 = 2.7\n",
    "As2 = 0.02\n",
    "Q2 = 65e3\n",
    "ns2 = 6.8"
   ]
  },
  {
   "cell_type": "code",
   "execution_count": 3,
   "metadata": {},
   "outputs": [
    {
     "name": "stdout",
     "output_type": "stream",
     "text": [
      "Treating target : all\n",
      "The following library has been built :\n",
      "- libBehaviour.so :  MohrCoulombAbboSloan_AxisymmetricalGeneralisedPlaneStrain MohrCoulombAbboSloan_AxisymmetricalGeneralisedPlaneStress MohrCoulombAbboSloan_Axisymmetrical MohrCoulombAbboSloan_PlaneStress MohrCoulombAbboSloan_PlaneStrain MohrCoulombAbboSloan_GeneralisedPlaneStrain MohrCoulombAbboSloan_Tridimensional ModCamClay_semiExplParaInit_AxisymmetricalGeneralisedPlaneStrain ModCamClay_semiExplParaInit_AxisymmetricalGeneralisedPlaneStress ModCamClay_semiExplParaInit_Axisymmetrical ModCamClay_semiExplParaInit_PlaneStress ModCamClay_semiExplParaInit_PlaneStrain ModCamClay_semiExplParaInit_GeneralisedPlaneStrain ModCamClay_semiExplParaInit_Tridimensional PowerLawLinearCreep_AxisymmetricalGeneralisedPlaneStrain PowerLawLinearCreep_AxisymmetricalGeneralisedPlaneStress PowerLawLinearCreep_Axisymmetrical PowerLawLinearCreep_PlaneStress PowerLawLinearCreep_PlaneStrain PowerLawLinearCreep_GeneralisedPlaneStrain PowerLawLinearCreep_Tridimensional GuentherSalzer_AxisymmetricalGeneralisedPlaneStrain GuentherSalzer_AxisymmetricalGeneralisedPlaneStress GuentherSalzer_Axisymmetrical GuentherSalzer_PlaneStress GuentherSalzer_PlaneStrain GuentherSalzer_GeneralisedPlaneStrain GuentherSalzer_Tridimensional\n"
     ]
    },
    {
     "data": {
      "text/plain": [
       "0"
      ]
     },
     "execution_count": 3,
     "metadata": {},
     "output_type": "execute_result"
    }
   ],
   "source": [
    "build_release = 'mfront --obuild --interface=generic GuentherSalzer.mfront'\n",
    "os.system(build_release)"
   ]
  },
  {
   "cell_type": "code",
   "execution_count": 4,
   "metadata": {},
   "outputs": [],
   "source": [
    "#HIDDEN\n",
    "def run_creep_IfG(t_discrete, sdiff=-25):\n",
    "    m    = mtest.MTest()\n",
    "    m.setMaximumNumberOfSubSteps(10)\n",
    "    m.setBehaviour('generic', './src/libBehaviour.so', 'GuentherSalzer')\n",
    "    m.setImposedStress('SXX', 0.0)\n",
    "    m.setImposedStress('SYY', 0.0)\n",
    "    m.setImposedStress('SZZ', {0: 0, 1:-16, 60: -16, 61: sdiff, 200: sdiff})\n",
    "    m.setImposedStress('SXZ', 0.0)\n",
    "    m.setImposedStress('SYZ', 0.0)\n",
    "    m.setImposedStress('SXY', 0.0)\n",
    "    m.setMaterialProperty('YoungModulus', E)\n",
    "    m.setMaterialProperty('PoissonRatio', nu)\n",
    "    m.setMaterialProperty('PrimaryPowerLawFactor', Ap)\n",
    "    m.setMaterialProperty('PrimaryPowerLawExponent', npe)\n",
    "    m.setMaterialProperty('SecondaryPowerLawFactor1', As1)\n",
    "    m.setMaterialProperty('SecondaryPowerLawExponent1', ns1)\n",
    "    m.setMaterialProperty('SecondaryActivationEnergy1', Q1)\n",
    "    m.setMaterialProperty('SecondaryPowerLawFactor2', As2)\n",
    "    m.setMaterialProperty('SecondaryPowerLawExponent2', ns2)\n",
    "    m.setMaterialProperty('SecondaryActivationEnergy2', Q2)\n",
    "    m.setMaterialProperty('HardeningExponent', mup)\n",
    "    m.setMaterialProperty('InitialHardening', epsv0)\n",
    "    m.setMaterialProperty('ReferenceStress', s0)\n",
    "    m.setExternalStateVariable(\"Temperature\", 293.15)\n",
    "    s = mtest.MTestCurrentState()\n",
    "    wk = mtest.MTestWorkSpace()\n",
    "    m.completeInitialisation()\n",
    "    m.initializeCurrentState(s)\n",
    "    m.initializeWorkSpace(wk)\n",
    "    numerical = np.array([0.])\n",
    "    for i in range(len(t_discrete)-1):\n",
    "        m.execute(s, wk, t_discrete[i], t_discrete[i + 1])\n",
    "        numerical = np.append(numerical,s.e1[2])\n",
    "    return numerical"
   ]
  },
  {
   "cell_type": "code",
   "execution_count": 5,
   "metadata": {},
   "outputs": [],
   "source": [
    "#HIDDEN\n",
    "ndt = 200\n",
    "times = np.append(np.linspace(0,10,ndt),\n",
    "                  np.append(\n",
    "                      np.linspace(11,60,ndt),\n",
    "                      np.append(\n",
    "                          np.linspace(60.1,70,ndt),\n",
    "                          np.linspace(71,200,ndt)\n",
    "                      )\n",
    "                  )\n",
    "                 )"
   ]
  },
  {
   "cell_type": "code",
   "execution_count": 6,
   "metadata": {},
   "outputs": [
    {
     "ename": "RuntimeError",
     "evalue": "GenericSolver::execute: maximum number of sub stepping reached",
     "output_type": "error",
     "traceback": [
      "\u001b[0;31m---------------------------------------------------------------------------\u001b[0m",
      "\u001b[0;31mRuntimeError\u001b[0m                              Traceback (most recent call last)",
      "\u001b[0;32m/tmp/ipykernel_666917/2322719780.py\u001b[0m in \u001b[0;36m<module>\u001b[0;34m\u001b[0m\n\u001b[1;32m      3\u001b[0m \u001b[0mfig\u001b[0m\u001b[0;34m,\u001b[0m\u001b[0max\u001b[0m \u001b[0;34m=\u001b[0m \u001b[0mplt\u001b[0m\u001b[0;34m.\u001b[0m\u001b[0msubplots\u001b[0m\u001b[0;34m(\u001b[0m\u001b[0mfigsize\u001b[0m\u001b[0;34m=\u001b[0m\u001b[0;34m(\u001b[0m\u001b[0;36m12\u001b[0m\u001b[0;34m,\u001b[0m\u001b[0;36m8\u001b[0m\u001b[0;34m)\u001b[0m\u001b[0;34m)\u001b[0m\u001b[0;34m\u001b[0m\u001b[0;34m\u001b[0m\u001b[0m\n\u001b[1;32m      4\u001b[0m \u001b[0;32mfor\u001b[0m \u001b[0msig\u001b[0m \u001b[0;32min\u001b[0m \u001b[0msigs\u001b[0m\u001b[0;34m:\u001b[0m\u001b[0;34m\u001b[0m\u001b[0;34m\u001b[0m\u001b[0m\n\u001b[0;32m----> 5\u001b[0;31m     \u001b[0max\u001b[0m\u001b[0;34m.\u001b[0m\u001b[0mplot\u001b[0m\u001b[0;34m(\u001b[0m\u001b[0mtimes\u001b[0m\u001b[0;34m[\u001b[0m\u001b[0;36m1\u001b[0m\u001b[0;34m:\u001b[0m\u001b[0;34m]\u001b[0m\u001b[0;34m,\u001b[0m\u001b[0;34m-\u001b[0m\u001b[0mrun_creep_IfG\u001b[0m\u001b[0;34m(\u001b[0m\u001b[0mtimes\u001b[0m\u001b[0;34m,\u001b[0m\u001b[0msig\u001b[0m\u001b[0;34m)\u001b[0m\u001b[0;34m[\u001b[0m\u001b[0;36m1\u001b[0m\u001b[0;34m:\u001b[0m\u001b[0;34m]\u001b[0m\u001b[0;34m*\u001b[0m\u001b[0;36m100\u001b[0m\u001b[0;34m,\u001b[0m\u001b[0mlabel\u001b[0m\u001b[0;34m=\u001b[0m\u001b[0;34m'$\\\\sigma_\\\\mathrm{diff} = %i$ MPa'\u001b[0m \u001b[0;34m%\u001b[0m\u001b[0;34m(\u001b[0m\u001b[0;34m-\u001b[0m\u001b[0msig\u001b[0m\u001b[0;34m)\u001b[0m\u001b[0;34m)\u001b[0m\u001b[0;34m\u001b[0m\u001b[0;34m\u001b[0m\u001b[0m\n\u001b[0m\u001b[1;32m      6\u001b[0m \u001b[0max\u001b[0m\u001b[0;34m.\u001b[0m\u001b[0mset_xlabel\u001b[0m\u001b[0;34m(\u001b[0m\u001b[0;34m'$t$ / d'\u001b[0m\u001b[0;34m)\u001b[0m\u001b[0;34m\u001b[0m\u001b[0;34m\u001b[0m\u001b[0m\n\u001b[1;32m      7\u001b[0m \u001b[0max\u001b[0m\u001b[0;34m.\u001b[0m\u001b[0mset_ylabel\u001b[0m\u001b[0;34m(\u001b[0m\u001b[0;34m'$\\\\epsilon_{zz}$ / %'\u001b[0m\u001b[0;34m)\u001b[0m\u001b[0;34m\u001b[0m\u001b[0;34m\u001b[0m\u001b[0m\n",
      "\u001b[0;32m/tmp/ipykernel_666917/2194900152.py\u001b[0m in \u001b[0;36mrun_creep_IfG\u001b[0;34m(t_discrete, sdiff)\u001b[0m\n\u001b[1;32m     31\u001b[0m     \u001b[0mnumerical\u001b[0m \u001b[0;34m=\u001b[0m \u001b[0mnp\u001b[0m\u001b[0;34m.\u001b[0m\u001b[0marray\u001b[0m\u001b[0;34m(\u001b[0m\u001b[0;34m[\u001b[0m\u001b[0;36m0.\u001b[0m\u001b[0;34m]\u001b[0m\u001b[0;34m)\u001b[0m\u001b[0;34m\u001b[0m\u001b[0;34m\u001b[0m\u001b[0m\n\u001b[1;32m     32\u001b[0m     \u001b[0;32mfor\u001b[0m \u001b[0mi\u001b[0m \u001b[0;32min\u001b[0m \u001b[0mrange\u001b[0m\u001b[0;34m(\u001b[0m\u001b[0mlen\u001b[0m\u001b[0;34m(\u001b[0m\u001b[0mt_discrete\u001b[0m\u001b[0;34m)\u001b[0m\u001b[0;34m-\u001b[0m\u001b[0;36m1\u001b[0m\u001b[0;34m)\u001b[0m\u001b[0;34m:\u001b[0m\u001b[0;34m\u001b[0m\u001b[0;34m\u001b[0m\u001b[0m\n\u001b[0;32m---> 33\u001b[0;31m         \u001b[0mm\u001b[0m\u001b[0;34m.\u001b[0m\u001b[0mexecute\u001b[0m\u001b[0;34m(\u001b[0m\u001b[0ms\u001b[0m\u001b[0;34m,\u001b[0m \u001b[0mwk\u001b[0m\u001b[0;34m,\u001b[0m \u001b[0mt_discrete\u001b[0m\u001b[0;34m[\u001b[0m\u001b[0mi\u001b[0m\u001b[0;34m]\u001b[0m\u001b[0;34m,\u001b[0m \u001b[0mt_discrete\u001b[0m\u001b[0;34m[\u001b[0m\u001b[0mi\u001b[0m \u001b[0;34m+\u001b[0m \u001b[0;36m1\u001b[0m\u001b[0;34m]\u001b[0m\u001b[0;34m)\u001b[0m\u001b[0;34m\u001b[0m\u001b[0;34m\u001b[0m\u001b[0m\n\u001b[0m\u001b[1;32m     34\u001b[0m         \u001b[0mnumerical\u001b[0m \u001b[0;34m=\u001b[0m \u001b[0mnp\u001b[0m\u001b[0;34m.\u001b[0m\u001b[0mappend\u001b[0m\u001b[0;34m(\u001b[0m\u001b[0mnumerical\u001b[0m\u001b[0;34m,\u001b[0m\u001b[0ms\u001b[0m\u001b[0;34m.\u001b[0m\u001b[0me1\u001b[0m\u001b[0;34m[\u001b[0m\u001b[0;36m2\u001b[0m\u001b[0;34m]\u001b[0m\u001b[0;34m)\u001b[0m\u001b[0;34m\u001b[0m\u001b[0;34m\u001b[0m\u001b[0m\n\u001b[1;32m     35\u001b[0m     \u001b[0;32mreturn\u001b[0m \u001b[0mnumerical\u001b[0m\u001b[0;34m\u001b[0m\u001b[0;34m\u001b[0m\u001b[0m\n",
      "\u001b[0;31mRuntimeError\u001b[0m: GenericSolver::execute: maximum number of sub stepping reached"
     ]
    },
    {
     "data": {
      "image/png": "[encoded data removed]",
      "text/plain": [
       "<Figure size 864x576 with 1 Axes>"
      ]
     },
     "metadata": {
      "needs_background": "light"
     },
     "output_type": "display_data"
    }
   ],
   "source": [
    "#HIDDEN\n",
    "sigs = [-19,-22,-25,-28]\n",
    "fig,ax = plt.subplots(figsize=(12,8))\n",
    "for sig in sigs:\n",
    "    ax.plot(times[1:],-run_creep_IfG(times,sig)[1:]*100,label='$\\\\sigma_\\\\mathrm{diff} = %i$ MPa' %(-sig))\n",
    "ax.set_xlabel('$t$ / d')\n",
    "ax.set_ylabel('$\\\\epsilon_{zz}$ / %')\n",
    "ax.grid('both')\n",
    "ax.legend();\n",
    "fig.tight_layout();"
   ]
  },
  {
   "cell_type": "code",
   "execution_count": null,
   "metadata": {},
   "outputs": [],
   "source": [
    "#HIDDEN\n",
    "def run_creep_BMBF(t_discrete):\n",
    "    m    = mtest.MTest()\n",
    "    m.setMaximumNumberOfSubSteps(10)\n",
    "    m.setBehaviour('generic', './src/libBehaviour.so', 'GuentherSalzer')\n",
    "    m.setImposedStress('SXX', 0.0)\n",
    "    m.setImposedStress('SYY', 0.0)\n",
    "    m.setImposedStress('SZZ', {0: 0, 1: -20, 60: -20, 61: -15, 150: -15, 151: -20, 170:-20, 171: -18, 380: -18, 381: -20, 450: -20})\n",
    "    m.setImposedStress('SXZ', 0.0)\n",
    "    m.setImposedStress('SYZ', 0.0)\n",
    "    m.setImposedStress('SXY', 0.0)\n",
    "    m.setMaterialProperty('YoungModulus', E)\n",
    "    m.setMaterialProperty('PoissonRatio', nu)\n",
    "    m.setMaterialProperty('PrimaryPowerLawFactor', Ap)\n",
    "    m.setMaterialProperty('PrimaryPowerLawExponent', npe)\n",
    "    m.setMaterialProperty('SecondaryPowerLawFactor1', As1)\n",
    "    m.setMaterialProperty('SecondaryPowerLawExponent1', ns1)\n",
    "    m.setMaterialProperty('SecondaryActivationEnergy1', Q1)\n",
    "    m.setMaterialProperty('SecondaryPowerLawFactor2', As2)\n",
    "    m.setMaterialProperty('SecondaryPowerLawExponent2', ns2)\n",
    "    m.setMaterialProperty('SecondaryActivationEnergy2', Q2)\n",
    "    m.setMaterialProperty('HardeningExponent', mup)\n",
    "    m.setMaterialProperty('InitialHardening', epsv0)\n",
    "    m.setMaterialProperty('ReferenceStress', s0)\n",
    "    m.setExternalStateVariable(\"Temperature\", 293.15)\n",
    "    s = mtest.MTestCurrentState()\n",
    "    wk = mtest.MTestWorkSpace()\n",
    "    m.completeInitialisation()\n",
    "    m.initializeCurrentState(s)\n",
    "    m.initializeWorkSpace(wk)\n",
    "    numerical = np.array([0.])\n",
    "    for i in range(len(t_discrete)-1):\n",
    "        m.execute(s, wk, t_discrete[i], t_discrete[i + 1])\n",
    "        numerical = np.append(numerical,s.e1[2])\n",
    "    return numerical"
   ]
  },
  {
   "cell_type": "code",
   "execution_count": null,
   "metadata": {},
   "outputs": [],
   "source": [
    "times = np.linspace(0,450,10000)"
   ]
  },
  {
   "cell_type": "code",
   "execution_count": null,
   "metadata": {},
   "outputs": [],
   "source": [
    "#HIDDEN\n",
    "fig,ax = plt.subplots(figsize=(12,8))\n",
    "ax.plot(times[1:],-run_creep_BMBF(times)[1:]*100)\n",
    "ax.set_xlabel('$t$ / d')\n",
    "ax.set_ylabel('$\\\\epsilon_{zz}$ / %')\n",
    "ax.grid('both')\n",
    "fig.tight_layout();"
   ]
  },
  {
   "cell_type": "code",
   "execution_count": null,
   "metadata": {},
   "outputs": [],
   "source": [
    "E = 25e4 #MPa\n",
    "nu = 0.27\n",
    "#\n",
    "Ap = 5.5e-40 #1/d\n",
    "npe = 19.6\n",
    "s0 = 1.0 #MPa\n",
    "mup = 5.25\n",
    "epsv0 = 0.001 # very sensitive parameter!\n",
    "#\n",
    "As1 = 0.05\n",
    "Q1 = 40e3\n",
    "ns1 = 2.7\n",
    "As2 = 0.02\n",
    "Q2 = 65e3\n",
    "ns2 = 6.8"
   ]
  },
  {
   "cell_type": "code",
   "execution_count": null,
   "metadata": {},
   "outputs": [],
   "source": [
    "#HIDDEN\n",
    "def run_creep_Asse(T = 299, t1=45, t2 = 30, sdiff1=-25, sdiff2 = -25, s3 = -20.):\n",
    "    t_discrete = np.linspace(0,t1+t2,1000)\n",
    "    m    = mtest.MTest()\n",
    "    m.setMaximumNumberOfSubSteps(10)\n",
    "    m.setBehaviour('generic', './src/libBehaviour.so', 'GuentherSalzer')\n",
    "    m.setImposedStress('SXX', s3)\n",
    "    m.setImposedStress('SYY', s3)\n",
    "    m.setImposedStress('SZZ', {0: s3, 1:s3+sdiff1, t1: s3+sdiff1, t1+1: s3+sdiff2, t2+t1: s3+sdiff2})\n",
    "    m.setImposedStress('SXZ', 0.0)\n",
    "    m.setImposedStress('SYZ', 0.0)\n",
    "    m.setImposedStress('SXY', 0.0)\n",
    "    m.setMaterialProperty('YoungModulus', E)\n",
    "    m.setMaterialProperty('PoissonRatio', nu)\n",
    "    m.setMaterialProperty('PrimaryPowerLawFactor', Ap)\n",
    "    m.setMaterialProperty('PrimaryPowerLawExponent', npe)\n",
    "    m.setMaterialProperty('SecondaryPowerLawFactor1', As1)\n",
    "    m.setMaterialProperty('SecondaryPowerLawExponent1', ns1)\n",
    "    m.setMaterialProperty('SecondaryActivationEnergy1', Q1)\n",
    "    m.setMaterialProperty('SecondaryPowerLawFactor2', As2)\n",
    "    m.setMaterialProperty('SecondaryPowerLawExponent2', ns2)\n",
    "    m.setMaterialProperty('SecondaryActivationEnergy2', Q2)\n",
    "    m.setMaterialProperty('HardeningExponent', mup)\n",
    "    m.setMaterialProperty('InitialHardening', epsv0)\n",
    "    m.setMaterialProperty('ReferenceStress', s0)\n",
    "    m.setExternalStateVariable(\"Temperature\", 293.15)\n",
    "    s = mtest.MTestCurrentState()\n",
    "    wk = mtest.MTestWorkSpace()\n",
    "    m.completeInitialisation()\n",
    "    m.initializeCurrentState(s)\n",
    "    m.initializeWorkSpace(wk)\n",
    "    numerical = np.array([0.])\n",
    "    for i in range(len(t_discrete)-1):\n",
    "        m.execute(s, wk, t_discrete[i], t_discrete[i + 1])\n",
    "        numerical = np.append(numerical,s.e1[2])\n",
    "    return t_discrete, numerical"
   ]
  },
  {
   "cell_type": "code",
   "execution_count": null,
   "metadata": {},
   "outputs": [],
   "source": [
    "#HIDDEN\n",
    "fig,ax = plt.subplots(figsize=(12,8))\n",
    "t3, e3 = run_creep_Asse(T = 333, t1 = 46, t2 = 27, sdiff1 = -22, sdiff2 = -20, s3 = -20)\n",
    "t4, e4 = run_creep_Asse(T = 333, t1 = 47, t2 = 54, sdiff1 = -20, sdiff2 = -18, s3 = -20)\n",
    "t7, e7 = run_creep_Asse(T = 333, t1 = 47, t2 = 60, sdiff1 = -16, sdiff2 = -14, s3 = -20)\n",
    "ax.plot(t3[1:],-e3[1:]*100, label= 'K3')\n",
    "ax.plot(t4[1:],-e4[1:]*100, label= 'K4')\n",
    "ax.plot(t7[1:],-e7[1:]*100, label= 'K7')\n",
    "ax.set_xlabel('$t$ / d')\n",
    "ax.set_ylabel('$\\\\epsilon_{zz}$ / %')\n",
    "ax.grid('both')\n",
    "ax.legend()\n",
    "fig.tight_layout();"
   ]
  },
  {
   "cell_type": "code",
   "execution_count": null,
   "metadata": {},
   "outputs": [],
   "source": [
    "#HIDDEN\n",
    "def run_stress_effect_sim(t_discrete, sax, T):\n",
    "    m    = mtest.MTest()\n",
    "    m.setMaximumNumberOfSubSteps(10)\n",
    "    m.setBehaviour('generic', './src/libBehaviour.so', 'GuentherSalzer')\n",
    "    m.setImposedStress('SXX', 0.0)\n",
    "    m.setImposedStress('SYY', 0.0)\n",
    "    m.setImposedStress('SZZ', {0:0, 1:sax})\n",
    "    m.setImposedStress('SXZ', 0.0)\n",
    "    m.setImposedStress('SYZ', 0.0)\n",
    "    m.setImposedStress('SXY', 0.0)\n",
    "    m.setMaterialProperty('YoungModulus', E)\n",
    "    m.setMaterialProperty('PoissonRatio', nu)\n",
    "    m.setMaterialProperty('PrimaryPowerLawFactor', Ap)\n",
    "    m.setMaterialProperty('PrimaryPowerLawExponent', npe)\n",
    "    m.setMaterialProperty('SecondaryPowerLawFactor1', As1)\n",
    "    m.setMaterialProperty('SecondaryPowerLawExponent1', ns1)\n",
    "    m.setMaterialProperty('SecondaryActivationEnergy1', Q1)\n",
    "    m.setMaterialProperty('SecondaryPowerLawFactor2', As2)\n",
    "    m.setMaterialProperty('SecondaryPowerLawExponent2', ns2)\n",
    "    m.setMaterialProperty('SecondaryActivationEnergy2', Q2)\n",
    "    m.setMaterialProperty('HardeningExponent', mup)\n",
    "    m.setMaterialProperty('InitialHardening', epsv0)\n",
    "    m.setMaterialProperty('ReferenceStress', s0)\n",
    "    m.setExternalStateVariable(\"Temperature\", T)\n",
    "    s = mtest.MTestCurrentState()\n",
    "    wk = mtest.MTestWorkSpace()\n",
    "    m.completeInitialisation()\n",
    "    m.initializeCurrentState(s)\n",
    "    m.initializeWorkSpace(wk)\n",
    "    numerical = np.array([0.])\n",
    "    prev = np.array([0.])\n",
    "    for i in range(len(t_discrete)-1):\n",
    "        m.execute(s, wk, t_discrete[i], t_discrete[i + 1])\n",
    "        numerical = np.append(numerical,s.e1[2])\n",
    "        prev = np.append(prev,s.e0[2])\n",
    "    return numerical, prev"
   ]
  },
  {
   "cell_type": "code",
   "execution_count": null,
   "metadata": {},
   "outputs": [],
   "source": [
    "#HIDDEN\n",
    "times = np.linspace(0,100,1000)\n",
    "sax = [0.1,0.5,1,2,3,4,5,10,15,25]\n",
    "temps = [20,50,100]\n",
    "cols = ['black','green','orange','red']\n",
    "fig,ax = plt.subplots(figsize=(12,8))\n",
    "for s in sax:\n",
    "    for i,T in enumerate(temps):\n",
    "        eps1, eps0 = run_stress_effect_sim(times,s,T+273.15)\n",
    "        dot_eps_av = (eps1[-1]-eps0[-1])/(times[-1] - times[-2])\n",
    "        if s == sax[0]:\n",
    "            ax.plot(s,dot_eps_av,label='$T$ = %i °C' %T, ls='', marker='d',color=cols[i])\n",
    "        else:\n",
    "            ax.plot(s,dot_eps_av, ls='', marker='d',color=cols[i])\n",
    "ax.set_xlabel('$\\\\sigma_\\\\mathrm{ax}$ / MPa')\n",
    "ax.set_ylabel('$\\\\dot{\\\\epsilon}_{zz}$ / d$^{-1}$')\n",
    "ax.set_xscale('log')\n",
    "ax.set_yscale('log')\n",
    "fig.tight_layout();\n",
    "fig.suptitle('Steady-state creep rate')\n",
    "ax.legend();"
   ]
  },
  {
   "cell_type": "code",
   "execution_count": null,
   "metadata": {},
   "outputs": [],
   "source": []
  }
 ],
 "metadata": {
  "kernelspec": {
   "display_name": "Python 3 (ipykernel)",
   "language": "python",
   "name": "python3"
  },
  "language_info": {
   "codemirror_mode": {
    "name": "ipython",
    "version": 3
   },
   "file_extension": ".py",
   "mimetype": "text/x-python",
   "name": "python",
   "nbconvert_exporter": "python",
   "pygments_lexer": "ipython3",
   "version": "3.8.10"
  }
 },
 "nbformat": 4,
 "nbformat_minor": 4
}
